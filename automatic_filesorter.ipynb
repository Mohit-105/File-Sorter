{
 "cells": [
  {
   "cell_type": "code",
   "execution_count": 1,
   "id": "301c2fd3-5dd0-47eb-a9d8-48c08c7a6873",
   "metadata": {},
   "outputs": [],
   "source": [
    "import os,shutil"
   ]
  },
  {
   "cell_type": "code",
   "execution_count": 2,
   "id": "a721744f-cc59-4b74-950c-b5aa249faf24",
   "metadata": {},
   "outputs": [],
   "source": [
    "path=r\"D:/python_tut/\"\n",
    "# you can specify your path"
   ]
  },
  {
   "cell_type": "code",
   "execution_count": 3,
   "id": "de378d64-c22a-4b6e-a41e-8d3e8a3e7182",
   "metadata": {},
   "outputs": [],
   "source": [
    "file_name=os.listdir(path)"
   ]
  },
  {
   "cell_type": "code",
   "execution_count": 4,
   "id": "8e917ea3-a64a-4c26-8779-555c9fd91c66",
   "metadata": {},
   "outputs": [],
   "source": [
    "folder_name=['excel_files','pdf_files','jpg_files']\n",
    "#you can specify any other file type\n",
    "\n",
    "for loop in range(0,3):\n",
    "    if not os.path.exists(path+folder_name[loop]):\n",
    "        os.makedirs(path+folder_name[loop])"
   ]
  },
  {
   "cell_type": "code",
   "execution_count": 5,
   "id": "7ef0af15-7b2c-4fe8-999c-20b9a007d67e",
   "metadata": {},
   "outputs": [],
   "source": [
    "for file in file_name:\n",
    "    if \".xlsx\" in file and not os.path.exists(path+\"excel_files/\"+file):\n",
    "        shutil.move(path+file,path+\"excel_files/\"+file)\n",
    "    elif \".pdf\" in file and not os.path.exists(path+\"pdf_files/\"+file):\n",
    "        shutil.move(path+file,path+\"pdf_files/\"+file)\n",
    "    elif \".jpg\" in file and not os.path.exists(path+\"jpg_files/\"+file):\n",
    "        shutil.move(path+file,path+\"jpg_files/\"+file)"
   ]
  },
  {
   "cell_type": "markdown",
   "id": "68494aa8-b96a-4943-9b23-cf33f705e0ee",
   "metadata": {},
   "source": []
  }
 ],
 "metadata": {
  "kernelspec": {
   "display_name": "Python 3 (ipykernel)",
   "language": "python",
   "name": "python3"
  },
  "language_info": {
   "codemirror_mode": {
    "name": "ipython",
    "version": 3
   },
   "file_extension": ".py",
   "mimetype": "text/x-python",
   "name": "python",
   "nbconvert_exporter": "python",
   "pygments_lexer": "ipython3",
   "version": "3.11.5"
  }
 },
 "nbformat": 4,
 "nbformat_minor": 5
}
